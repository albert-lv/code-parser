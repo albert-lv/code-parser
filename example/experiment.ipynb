{
 "cells": [
  {
   "cell_type": "code",
   "execution_count": 2,
   "metadata": {},
   "outputs": [],
   "source": [
    "from tree_sitter import Language, Parser"
   ]
  },
  {
   "cell_type": "code",
   "execution_count": null,
   "metadata": {},
   "outputs": [],
   "source": [
    "Language.build_library(\n",
    "    # Store the library in the `build` directory\n",
    "    \"build/my-languages.so\",\n",
    "    # Include one or more languages\n",
    "    [\"vendor/tree-sitter-java\", \"vendor/tree-sitter-python\"],\n",
    ")"
   ]
  },
  {
   "cell_type": "code",
   "execution_count": null,
   "metadata": {},
   "outputs": [],
   "source": [
    "PY_LANGUAGE = Language(\"build/my-languages.so\", \"python\")"
   ]
  },
  {
   "cell_type": "code",
   "execution_count": null,
   "metadata": {},
   "outputs": [],
   "source": [
    "parser = Parser()\n",
    "parser.set_language(PY_LANGUAGE)"
   ]
  },
  {
   "cell_type": "code",
   "execution_count": null,
   "metadata": {},
   "outputs": [],
   "source": [
    "tree = parser.parse(\n",
    "    bytes(\n",
    "        \"\"\"\n",
    "def foo():\n",
    "    if bar:\n",
    "        baz()\n",
    "\"\"\",\n",
    "        \"utf8\",\n",
    "    )\n",
    ")"
   ]
  },
  {
   "cell_type": "code",
   "execution_count": null,
   "metadata": {},
   "outputs": [],
   "source": [
    "cursor = tree.walk()\n",
    "\n",
    "assert cursor.node.type == \"module\"\n",
    "\n",
    "assert cursor.goto_first_child()\n",
    "assert cursor.node.type == \"function_definition\"\n",
    "\n",
    "assert cursor.goto_first_child()\n",
    "assert cursor.node.type == \"def\"\n",
    "\n",
    "# Returns `False` because the `def` node has no children\n",
    "assert not cursor.goto_first_child()\n",
    "\n",
    "assert cursor.goto_next_sibling()\n",
    "assert cursor.node.type == \"identifier\"\n",
    "\n",
    "assert cursor.goto_next_sibling()\n",
    "assert cursor.node.type == \"parameters\"\n",
    "\n",
    "assert cursor.goto_parent()\n",
    "assert cursor.node.type == \"function_definition\""
   ]
  },
  {
   "cell_type": "code",
   "execution_count": 3,
   "metadata": {},
   "outputs": [],
   "source": [
    "JAVA_LANGUAGE = Language(\"build/my-languages.so\", \"java\")"
   ]
  },
  {
   "cell_type": "code",
   "execution_count": 4,
   "metadata": {},
   "outputs": [],
   "source": [
    "parser = Parser()\n",
    "parser.set_language(JAVA_LANGUAGE)"
   ]
  },
  {
   "cell_type": "code",
   "execution_count": 30,
   "metadata": {},
   "outputs": [],
   "source": [
    "code = \"\"\"\n",
    "@ApiOperation(value = \"Get persistent RPC request\", notes = \"Get information about the status of the RPC call.\" + TENANT_OR_CUSTOMER_AUTHORITY_PARAGRAPH)\n",
    "@PreAuthorize(\"hasAnyAuthority('TENANT_ADMIN', 'CUSTOMER_USER')\")\n",
    "@RequestMapping(value = \"/persistent/{rpcId}\", method = RequestMethod.GET)\n",
    "@ResponseBody\n",
    "public Rpc getPersistedRpc(\n",
    "        @ApiParam(value = RPC_ID_PARAM_DESCRIPTION, required = true)\n",
    "        @PathVariable(RPC_ID) String strRpc) throws ThingsboardException {\n",
    "    checkParameter(\"RpcId\", strRpc);\n",
    "    RpcId rpcId = new RpcId(UUID.fromString(strRpc));\n",
    "    return checkRpcId(rpcId, Operation.READ);\n",
    "}\n",
    "\"\"\""
   ]
  },
  {
   "cell_type": "code",
   "execution_count": 31,
   "metadata": {},
   "outputs": [],
   "source": [
    "tree = parser.parse(\n",
    "    bytes(\n",
    "        code,\n",
    "        \"utf8\",\n",
    "    )\n",
    ")"
   ]
  },
  {
   "cell_type": "code",
   "execution_count": 32,
   "metadata": {},
   "outputs": [
    {
     "name": "stdout",
     "output_type": "stream",
     "text": [
      "(program (method_declaration (modifiers (annotation name: (identifier) arguments: (annotation_argument_list (element_value_pair key: (identifier) value: (string_literal (string_fragment))) (element_value_pair key: (identifier) value: (binary_expression left: (string_literal (string_fragment)) right: (identifier))))) (annotation name: (identifier) arguments: (annotation_argument_list (string_literal (string_fragment)))) (annotation name: (identifier) arguments: (annotation_argument_list (element_value_pair key: (identifier) value: (string_literal (string_fragment))) (element_value_pair key: (identifier) value: (field_access object: (identifier) field: (identifier))))) (marker_annotation name: (identifier))) type: (type_identifier) name: (identifier) parameters: (formal_parameters (formal_parameter (modifiers (annotation name: (identifier) arguments: (annotation_argument_list (element_value_pair key: (identifier) value: (identifier)) (element_value_pair key: (identifier) value: (true)))) (annotation name: (identifier) arguments: (annotation_argument_list (identifier)))) type: (type_identifier) name: (identifier))) (throws (type_identifier)) body: (block (expression_statement (method_invocation name: (identifier) arguments: (argument_list (string_literal (string_fragment)) (identifier)))) (local_variable_declaration type: (type_identifier) declarator: (variable_declarator name: (identifier) value: (object_creation_expression type: (type_identifier) arguments: (argument_list (method_invocation object: (identifier) name: (identifier) arguments: (argument_list (identifier))))))) (return_statement (method_invocation name: (identifier) arguments: (argument_list (identifier) (field_access object: (identifier) field: (identifier))))))))\n"
     ]
    }
   ],
   "source": [
    "s_expression = tree.root_node.sexp()\n",
    "print(s_expression)"
   ]
  },
  {
   "cell_type": "code",
   "execution_count": 33,
   "metadata": {},
   "outputs": [],
   "source": [
    "query = JAVA_LANGUAGE.query(\n",
    "\"\"\"\n",
    "(method_declaration\n",
    "    (modifiers\n",
    "        (annotation\n",
    "            \"@\" name: (identifier) @annotation_name)))\n",
    "\"\"\"\n",
    ")\n",
    "\n",
    "captures = query.captures(tree.root_node)"
   ]
  },
  {
   "cell_type": "code",
   "execution_count": 29,
   "metadata": {},
   "outputs": [
    {
     "name": "stdout",
     "output_type": "stream",
     "text": [
      "<Node type=identifier, start_point=(1, 1), end_point=(1, 13)> annotation_name \n",
      "<Node type=identifier, start_point=(2, 1), end_point=(2, 13)> annotation_name \n",
      "<Node type=identifier, start_point=(3, 1), end_point=(3, 15)> annotation_name \n",
      "1\n",
      "1\n",
      "1\n",
      "13\n"
     ]
    }
   ],
   "source": [
    "for row in captures:\n",
    "    for element in row:\n",
    "        print(element, end=' ')\n",
    "    print()\n",
    "\n",
    "print(captures[0][0].start_point[0])\n",
    "print(captures[0][0].start_point[1])\n",
    "print(captures[0][0].end_point[0])\n",
    "print(captures[0][0].end_point[1])"
   ]
  },
  {
   "cell_type": "code",
   "execution_count": 43,
   "metadata": {},
   "outputs": [
    {
     "name": "stdout",
     "output_type": "stream",
     "text": [
      "['@ApiOperation(value = \"Get persistent RPC request\", notes = \"Get information about the status of the RPC call.\" + TENANT_OR_CUSTOMER_AUTHORITY_PARAGRAPH)', '@PreAuthorize(\"hasAnyAuthority(\\'TENANT_ADMIN\\', \\'CUSTOMER_USER\\')\")', '@RequestMapping(value = \"/persistent/{rpcId}\", method = RequestMethod.GET)', '@ResponseBody', 'public Rpc getPersistedRpc(', '        @ApiParam(value = RPC_ID_PARAM_DESCRIPTION, required = true)', '        @PathVariable(RPC_ID) String strRpc) throws ThingsboardException {', '    checkParameter(\"RpcId\", strRpc);', '    RpcId rpcId = new RpcId(UUID.fromString(strRpc));', '    return checkRpcId(rpcId, Operation.READ);', '}']\n",
      "@ApiOperation(value = \"Get persistent RPC request\", notes = \"Get information about the status of the RPC call.\" + TENANT_OR_CUSTOMER_AUTHORITY_PARAGRAPH)\n",
      "ApiOperation\n"
     ]
    }
   ],
   "source": [
    "code_array = code.strip().split(\"\\n\")\n",
    "print(code_array)\n",
    "print(code_array[captures[0][0].start_point[0] - 1])\n",
    "print(code_array[captures[0][0].start_point[0] - 1][captures[0][0].start_point[1]: captures[0][0].end_point[1]])"
   ]
  }
 ],
 "metadata": {
  "kernelspec": {
   "display_name": "Python 3",
   "language": "python",
   "name": "python3"
  },
  "language_info": {
   "codemirror_mode": {
    "name": "ipython",
    "version": 3
   },
   "file_extension": ".py",
   "mimetype": "text/x-python",
   "name": "python",
   "nbconvert_exporter": "python",
   "pygments_lexer": "ipython3",
   "version": "3.10.6"
  }
 },
 "nbformat": 4,
 "nbformat_minor": 2
}
